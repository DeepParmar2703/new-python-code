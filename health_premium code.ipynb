{
 "cells": [
  {
   "cell_type": "code",
   "execution_count": 47,
   "id": "afeb6fee-04aa-4aa4-966f-747e638a9aa1",
   "metadata": {},
   "outputs": [
    {
     "name": "stdout",
     "output_type": "stream",
     "text": [
      "You will get 10% discount on your premium i.e., Rs 40000\n",
      "None\n"
     ]
    }
   ],
   "source": [
    "def health_premium(gender, date_of_birth, smoker):\n",
    "    if gender == \"MALE\":\n",
    "        if 1990 < date_of_birth <= 2000:\n",
    "            if smoker == \"Yes\":\n",
    "                print (\"Your annual premium is Rs 35000\")\n",
    "            else:\n",
    "                print (\"You will get 10% discount on your premium i.e., Rs 35000\")\n",
    "               \n",
    "        if 1970 <= date_of_birth <= 1990:\n",
    "            if smoker == \"Yes\":\n",
    "                print (\"Your annual premium is Rs 40000\")\n",
    "            else:\n",
    "                print (\"You will get 10% discount on your premium i.e., Rs 40000\")\n",
    "                \n",
    "\n",
    "    elif gender == 'FEMALE':\n",
    "        if 1990 < date_of_birth <= 2000:\n",
    "            if smoker == \"Yes\":\n",
    "                print (\"Your annual premium is Rs 30000\")\n",
    "            else:\n",
    "                print (\"You will get 10% discount on your premium i.e., 30000\")\n",
    "                print(30000-(30000*10)/100)\n",
    "               \n",
    "        if 1970 <= date_of_birth <= 1990:\n",
    "            if smoker == \"Yes\":\n",
    "                print (\"Your annual premium is Rs 35000\")\n",
    "            else:\n",
    "                print (\"You will get 5% discount on your premium i.e., Rs 35000 \")\n",
    "                print(35000-(35000*5)/100)\n",
    "    else:\n",
    "        print(\"You have given wrong input\")\n",
    "                \n",
    "print(health_premium('MALE',1986,'No'))  "
   ]
  },
  {
   "cell_type": "code",
   "execution_count": 18,
   "id": "8491e7e1-ff35-4053-ba6a-c13fdf424cab",
   "metadata": {},
   "outputs": [
    {
     "data": {
      "text/plain": [
       "'Your annual premium is Rs 35000.00'"
      ]
     },
     "execution_count": 18,
     "metadata": {},
     "output_type": "execute_result"
    }
   ],
   "source": [
    "def calculate_premium(gender,year_of_birth,smoker):\n",
    "    if gender == 'male':\n",
    "        if 1990 <= year_of_birth <= 2000:\n",
    "            premium = 35000\n",
    "            if smoker == 'no':\n",
    "                premium *= 0.90  # Apply 10% discount\n",
    "        else:\n",
    "            if 1970 <= year_of_birth < 1990:\n",
    "                premium = 40000\n",
    "                if smoker == 'no':\n",
    "                    premium *= 0.95  # Apply 5% discount\n",
    "            else:\n",
    "                raise ValueError(\"Year of birth out of expected range for male.\")\n",
    "                \n",
    "    elif gender == 'female':\n",
    "        if 1990 <= year_of_birth <= 2000:\n",
    "            premium = 30000\n",
    "            if smoker == 'no':\n",
    "                premium *= 0.90  # Apply 10% discount\n",
    "        else:\n",
    "            if 1970 <= year_of_birth < 1990:\n",
    "                premium = 35000\n",
    "                if smoker == 'no':\n",
    "                    premium *= 0.95  # Apply 5% discount\n",
    "            else:\n",
    "                raise ValueError(\"Year of birth out of expected range for female.\")\n",
    "                \n",
    "    else:\n",
    "        raise ValueError(\"Gender must be 'male' or 'female'.\")\n",
    "    \n",
    "    return f\"Your annual premium is Rs {premium:.2f}\"\n",
    "calculate_premium('male',1997,'yes')"
   ]
  },
  {
   "cell_type": "code",
   "execution_count": null,
   "id": "0e97125d-8e07-48e8-a565-89d47d5c659e",
   "metadata": {},
   "outputs": [],
   "source": []
  }
 ],
 "metadata": {
  "kernelspec": {
   "display_name": "Python 3 (ipykernel)",
   "language": "python",
   "name": "python3"
  },
  "language_info": {
   "codemirror_mode": {
    "name": "ipython",
    "version": 3
   },
   "file_extension": ".py",
   "mimetype": "text/x-python",
   "name": "python",
   "nbconvert_exporter": "python",
   "pygments_lexer": "ipython3",
   "version": "3.12.4"
  }
 },
 "nbformat": 4,
 "nbformat_minor": 5
}
